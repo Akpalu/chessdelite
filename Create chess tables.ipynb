{
 "cells": [
  {
   "cell_type": "code",
   "execution_count": null,
   "metadata": {},
   "outputs": [],
   "source": [
    "import sqlite3\n",
    "from datetime import date\n",
    "hot_date = date.today()\n",
    "DATABASE = \"chessdelite.db\"\n",
    "db_connection = sqlite3.connect(DATABASE) \n",
    "chess_db = db_connection.cursor()"
   ]
  },
  {
   "cell_type": "markdown",
   "metadata": {},
   "source": [
    "## Database commands for ad hoc use"
   ]
  },
  {
   "cell_type": "code",
   "execution_count": null,
   "metadata": {},
   "outputs": [],
   "source": [
    "chess_db.close()\n",
    "db_connection.close()"
   ]
  },
  {
   "cell_type": "code",
   "execution_count": null,
   "metadata": {},
   "outputs": [],
   "source": [
    "db_connection.rollback()"
   ]
  },
  {
   "cell_type": "code",
   "execution_count": null,
   "metadata": {},
   "outputs": [],
   "source": [
    "db_connection.commit()"
   ]
  },
  {
   "cell_type": "code",
   "execution_count": null,
   "metadata": {},
   "outputs": [],
   "source": [
    "chess_db.execute(\"DROP TABLE xx\")"
   ]
  },
  {
   "cell_type": "markdown",
   "metadata": {},
   "source": [
    "## FEN Header table \n",
    "### Creation and population\n",
    "These are the standard types of pgn header fields. The original/required/standard ones are given importances of 0 or 1; the fancier/optional/more recent ones have a priority of 2."
   ]
  },
  {
   "cell_type": "code",
   "execution_count": null,
   "metadata": {},
   "outputs": [],
   "source": [
    "chess_db.execute('''CREATE TABLE FEN_Headers\n",
    "             (FEN_Headers CHARACTER PRIMARY KEY, FEN_Header_Importance INTEGER)''')"
   ]
  },
  {
   "cell_type": "code",
   "execution_count": null,
   "metadata": {},
   "outputs": [],
   "source": [
    "header_fields = [['Event', 1], ['Site', 1], ['White', 1], ['Black', 1], ['WhiteElo', 2], \n",
    "                 ['BlackElo', 2], ['Result', 1], ['TimeControl', 2], ['Date', 1],\n",
    "                ['EventDate', 0], ['EventType', 0], ['Round', 1], ['ECO', 2], ['EventCountry', 0], \n",
    "                 ['EventRounds', 0], ['PlyCount', 2], ['Source', 0], ['SourceDate', 0],\n",
    "                ['Mode', 0], ['FEN', 0], ['Time', 0], ['Termination', 0], ['Annotator', 2]]"
   ]
  },
  {
   "cell_type": "code",
   "execution_count": null,
   "metadata": {},
   "outputs": [],
   "source": [
    "for header_tag in header_fields:\n",
    "    chess_db.execute(\"\"\"INSERT INTO FEN_Headers \n",
    "    VALUES ('%s', '%s')\"\"\"  %(header_tag[0], header_tag[1]))"
   ]
  },
  {
   "cell_type": "code",
   "execution_count": null,
   "metadata": {},
   "outputs": [],
   "source": [
    "db_connection.commit()"
   ]
  },
  {
   "cell_type": "markdown",
   "metadata": {},
   "source": [
    "## Game Stubs table\n",
    "### This is the table of pgn headers for each game. \n",
    "At the moment, the program uses these to create the displayed header for each game. It would be nice for all the StubHeaderField values to match the list of FEN_Headers in the table above, but pgn praxis allows them to be arbitrary, and every provider seems to create their own."
   ]
  },
  {
   "cell_type": "code",
   "execution_count": null,
   "metadata": {},
   "outputs": [],
   "source": [
    "chess_db.execute('''CREATE TABLE Gamestubs\n",
    "             (StubGameKey INTEGER, StubHeaderField CHARACTER, StubHeaderValue CHARACTER)''')"
   ]
  },
  {
   "cell_type": "code",
   "execution_count": null,
   "metadata": {},
   "outputs": [],
   "source": [
    "db_connection.commit()"
   ]
  },
  {
   "cell_type": "markdown",
   "metadata": {},
   "source": [
    "## Games table"
   ]
  },
  {
   "cell_type": "code",
   "execution_count": null,
   "metadata": {},
   "outputs": [],
   "source": [
    "chess_db.execute('''CREATE TABLE Games\n",
    "             (GameKey INTEGER PRIMARY KEY, GameWhitePlayer INTEGER, GameBlackPlayer INTEGER, \n",
    "             GameSource INTEGER, GameResult INTEGER, GameSourceType INTEGER, GameRound INTEGER)''')"
   ]
  },
  {
   "cell_type": "code",
   "execution_count": null,
   "metadata": {},
   "outputs": [],
   "source": [
    "# Artificial Player keys for flagging me and repertoires\n",
    "me_key = 1\n",
    "white_rep = 5\n",
    "black_rep = 6\n",
    "\n",
    "Slav_parent_node = 1\n",
    "KID_parent_node = 7\n",
    "english_parent_node = 27\n",
    "\n",
    "DUMMY_PLAYER = 0 \n",
    "DUMMY_GAME_SOURCE = 0\n",
    "GAME_UNDECIDED = -2\n",
    "GAME_SOURCE_TYPE_REPERTOIRE = 2\n",
    "NO_GAME_ROUND = 0"
   ]
  },
  {
   "cell_type": "code",
   "execution_count": null,
   "metadata": {},
   "outputs": [],
   "source": [
    "# Creating a game tuple for a repertoire \"game\" to cover the English opening\n",
    "game_tuple = (DUMMY_PLAYER, DUMMY_PLAYER, DUMMY_GAME_SOURCE, GAME_UNDECIDED, GAME_SOURCE_TYPE_REPERTOIRE, NO_GAME_ROUND)\n",
    "chess_db.execute(\"\"\"INSERT INTO Games (GameWhitePlayer, GameBlackPlayer, GameSource, GameResult, GameSourceType, GameRound)\n",
    "    VALUES ('%s', '%s', '%s', '%s', '%s', '%s')\"\"\"  %(game_tuple))"
   ]
  },
  {
   "cell_type": "code",
   "execution_count": null,
   "metadata": {},
   "outputs": [],
   "source": [
    "db_connection.commit()"
   ]
  },
  {
   "cell_type": "markdown",
   "metadata": {},
   "source": [
    "## Positions table\n",
    "### Create table and multi-column index"
   ]
  },
  {
   "cell_type": "code",
   "execution_count": null,
   "metadata": {},
   "outputs": [],
   "source": [
    "chess_db.execute('''CREATE TABLE Positions\n",
    "             (PositionKey INTEGER PRIMARY KEY, PositionRank8 CHARACTER, PositionRank7 CHARACTER, \n",
    "             PositionRank6 CHARACTER, PositionRank5 CHARACTER, PositionRank4 CHARACTER, PositionRank3 CHARACTER, \n",
    "             PositionRank2 CHARACTER, PositionRank1 CHARACTER, PositionWhoseMove CHARACTER, \n",
    "             PositionCastlingPrivileges CHARACTER)''')"
   ]
  },
  {
   "cell_type": "code",
   "execution_count": null,
   "metadata": {},
   "outputs": [],
   "source": [
    "chess_db.execute('''CREATE INDEX position_idx \n",
    "    ON Positions (PositionRank8, PositionRank7, PositionRank6, PositionRank5, PositionRank4, PositionRank3, \n",
    "             PositionRank2, PositionRank1, PositionWhoseMove, PositionCastlingPrivileges);''')"
   ]
  },
  {
   "cell_type": "markdown",
   "metadata": {},
   "source": [
    "### Create first row for the table, the initial position of the game"
   ]
  },
  {
   "cell_type": "code",
   "execution_count": null,
   "metadata": {},
   "outputs": [],
   "source": [
    "initial_position = 'rnbqkbnr/pppppppp/8/8/8/8/PPPPPPPP/RNBQKBNR w KQkq - 0 1'"
   ]
  },
  {
   "cell_type": "code",
   "execution_count": null,
   "metadata": {},
   "outputs": [],
   "source": [
    "def split_fen(hotFEN: str) -> tuple:\n",
    "    fen_list = hotFEN.split()\n",
    "    fen_whose_move = fen_list[1]\n",
    "    fen_castling_privileges = fen_list[2]\n",
    "    fen_rows = fen_list[0]\n",
    "    return (fen_rows, fen_whose_move, fen_castling_privileges)"
   ]
  },
  {
   "cell_type": "code",
   "execution_count": null,
   "metadata": {},
   "outputs": [],
   "source": [
    "def get_tuple_for_position_table(positionFEN: str):\n",
    "    fen_rows_string, fen_whose_move, fen_castling_privileges = split_fen(positionFEN)\n",
    "    fen_rows_list = fen_rows_string.split(\"/\")\n",
    "    fen_rows_list.append(fen_whose_move) \n",
    "    fen_rows_list.append(fen_castling_privileges) \n",
    "    return tuple(fen_rows_list)"
   ]
  },
  {
   "cell_type": "code",
   "execution_count": null,
   "metadata": {},
   "outputs": [],
   "source": [
    "initial_position_fields = get_tuple_for_position_table(initial_position)  \n",
    "initial_position_fields"
   ]
  },
  {
   "cell_type": "code",
   "execution_count": null,
   "metadata": {},
   "outputs": [],
   "source": [
    "chess_db.execute(\"\"\"INSERT INTO Positions (PositionRank8, PositionRank7, PositionRank6, PositionRank5, PositionRank4, \n",
    "        PositionRank3, PositionRank2, PositionRank1 , PositionWhoseMove, PositionCastlingPrivileges)\n",
    "    VALUES ('%s', '%s', '%s', '%s', '%s', '%s', '%s', '%s', '%s', '%s')\"\"\"  %(initial_position_fields))"
   ]
  },
  {
   "cell_type": "code",
   "execution_count": null,
   "metadata": {},
   "outputs": [],
   "source": [
    "db_connection.commit()"
   ]
  },
  {
   "cell_type": "markdown",
   "metadata": {},
   "source": [
    "## Moves table"
   ]
  },
  {
   "cell_type": "code",
   "execution_count": null,
   "metadata": {},
   "outputs": [],
   "source": [
    "chess_db.execute('''CREATE TABLE Moves\n",
    "             (MoveKey INTEGER PRIMARY KEY, MoveGame INTEGER, MoveNumber INTEGER, MoveWhoseMove INTEGER, \n",
    "             SquareFrom CHARACTER, SquareTo CHARACTER, MovePromotionPiece CHARACTER, \n",
    "             LineLevel CHARACTER, PositionFrom INTEGER, PositionTo INTEGER,\n",
    "             MoveParent INTEGER, LineParent INTEGER, SublineIndex INTEGER)''')"
   ]
  },
  {
   "cell_type": "code",
   "execution_count": null,
   "metadata": {},
   "outputs": [],
   "source": [
    "db_connection.commit()"
   ]
  },
  {
   "cell_type": "markdown",
   "metadata": {},
   "source": [
    "## Opening Nodes table"
   ]
  },
  {
   "cell_type": "code",
   "execution_count": null,
   "metadata": {},
   "outputs": [],
   "source": [
    "chess_db.execute('''CREATE TABLE OpeningNodes\n",
    "             (NodeKey INTEGER PRIMARY KEY, NodeName CHARACTER, NodeAbbrev CHARACTER,  \n",
    "             NodePositionKey INTEGER, NodeParentNode INTEGER, NodeStemGame INTEGER, \n",
    "             NodeIsRoot INTEGER)''')"
   ]
  },
  {
   "cell_type": "code",
   "execution_count": null,
   "metadata": {},
   "outputs": [],
   "source": [
    "db_connection.commit()"
   ]
  }
 ],
 "metadata": {
  "kernelspec": {
   "display_name": "Python 3",
   "language": "python",
   "name": "python3"
  },
  "language_info": {
   "codemirror_mode": {
    "name": "ipython",
    "version": 3
   },
   "file_extension": ".py",
   "mimetype": "text/x-python",
   "name": "python",
   "nbconvert_exporter": "python",
   "pygments_lexer": "ipython3",
   "version": "3.8.5"
  }
 },
 "nbformat": 4,
 "nbformat_minor": 4
}
