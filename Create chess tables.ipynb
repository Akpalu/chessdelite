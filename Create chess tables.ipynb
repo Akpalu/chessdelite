{
 "cells": [
  {
   "cell_type": "code",
   "execution_count": 1,
   "metadata": {},
   "outputs": [],
   "source": [
    "import sqlite3\n",
    "from datetime import date\n",
    "hot_date = date.today()\n",
    "DATABASE = \"chessdelite.db\"\n",
    "db_connection = sqlite3.connect(DATABASE) \n",
    "chess_db = db_connection.cursor()"
   ]
  },
  {
   "cell_type": "markdown",
   "metadata": {},
   "source": [
    "## Database commands for ad hoc use"
   ]
  },
  {
   "cell_type": "code",
   "execution_count": null,
   "metadata": {},
   "outputs": [],
   "source": [
    "chess_db.close()\n",
    "db_connection.close()"
   ]
  },
  {
   "cell_type": "code",
   "execution_count": null,
   "metadata": {},
   "outputs": [],
   "source": [
    "db_connection.rollback()"
   ]
  },
  {
   "cell_type": "code",
   "execution_count": null,
   "metadata": {},
   "outputs": [],
   "source": [
    "db_connection.commit()"
   ]
  },
  {
   "cell_type": "code",
   "execution_count": null,
   "metadata": {},
   "outputs": [],
   "source": [
    "chess_db.execute(\"DROP TABLE xx\")"
   ]
  },
  {
   "cell_type": "markdown",
   "metadata": {},
   "source": [
    "## Chess utilities\n",
    "Mostly for use in migrating Moves table to GameMoves and PureMoves"
   ]
  },
  {
   "cell_type": "code",
   "execution_count": 6,
   "metadata": {},
   "outputs": [],
   "source": [
    "def return_db_results(ref_sql):\n",
    "    \"\"\"Returns a list of dictionaries from a db table\n",
    "    where each dictionary is a row of the table, presented\n",
    "    in the form column_name: value.\n",
    "    \"\"\"\n",
    "    if not ref_sql:\n",
    "        return None\n",
    "    prepped_sql = prep_table_request(ref_sql)\n",
    "    if not prepped_sql:\n",
    "        return None\n",
    "    chess_db.execute(prepped_sql)\n",
    "    PGresults = chess_db.fetchall()\n",
    "    PGdescription = chess_db.description\n",
    "    fieldnames = [k[0] for k in PGdescription]\n",
    "    result_dict = [dict(zip(fieldnames, row)) for row in PGresults]\n",
    "    return result_dict\n",
    "\n",
    "def prep_table_request(teststring: str) -> str:\n",
    "    \"\"\"Private function to see if user function is requesting \n",
    "    just the name of a table, or specific SQL. \n",
    "    \n",
    "    Also vets arbitrary SQL statements to make sure \n",
    "    it's a SELECT statement and does not contain a semicolon\n",
    "    except at the very end. \n",
    "    \"\"\"\n",
    "    \n",
    "    # If there are no spaces in the input, it must be just a table\n",
    "    # name, so just take everything from the table. \n",
    "    if teststring.find(' ') < 0:\n",
    "        teststring = \"SELECT * FROM \" + teststring\n",
    "    else:\n",
    "        # Validate to make sure it's a SELECT statement\n",
    "        # and that there are no internal semicolons.\n",
    "        if teststring[:7] != 'SELECT ':\n",
    "            return ''\n",
    "        semicolon_pos = teststring.find(';')\n",
    "        if (semicolon_pos > -1) and semicolon_pos < len(teststring) -1:\n",
    "            return ''\n",
    "    return teststring"
   ]
  },
  {
   "cell_type": "code",
   "execution_count": 7,
   "metadata": {},
   "outputs": [],
   "source": [
    "def get_next_move_ID(tablename: str) -> int:\n",
    "    \"\"\" Returns the next available auto-number key from the given table.\n",
    "    \n",
    "        Should never be run with the QuizPositions table, as those rows have \n",
    "        their Position (foreign) key as the primary index, not an auto-number key.\n",
    "    \"\"\"\n",
    "    tablefields = {\"Moves\": \"MoveGame\", \"Games\": \"GameResult\", \"Positions\": \"PositionWhoseMove\",\n",
    "                  \"OpeningNodes\": \"NodePosition\", \"Quizzes\": \"QuizDate\"}\n",
    "    sql_string = \"\"\"INSERT INTO %s (%s) VALUES ('1')\"\"\" %(tablename,tablefields[tablename])\n",
    "    chess_db.execute(sql_string)\n",
    "    move_id = chess_db.lastrowid\n",
    "    db_connection.rollback()\n",
    "    return move_id\n",
    "\n",
    "def join_FEN_fields(FEN_fields: list)->str:\n",
    "    fen_string = '/'.join(FEN_fields)\n",
    "    return fen_string\n",
    "\n",
    "def make_move_hash(position_1: int, position_2: int) -> str:\n",
    "    return str(position_1) + \"_\" + str(position_2)"
   ]
  },
  {
   "cell_type": "markdown",
   "metadata": {},
   "source": [
    "## FEN Header table \n",
    "### Creation and population\n",
    "These are the standard types of pgn header fields. The original/required/standard ones are given importances of 0 or 1; the fancier/optional/more recent ones have a priority of 2."
   ]
  },
  {
   "cell_type": "code",
   "execution_count": null,
   "metadata": {},
   "outputs": [],
   "source": [
    "chess_db.execute('''CREATE TABLE FEN_Headers\n",
    "             (FEN_Headers CHARACTER PRIMARY KEY, FEN_Header_Importance INTEGER)''')"
   ]
  },
  {
   "cell_type": "code",
   "execution_count": null,
   "metadata": {},
   "outputs": [],
   "source": [
    "header_fields = [['Event', 1], ['Site', 1], ['White', 1], ['Black', 1], ['WhiteElo', 2], \n",
    "                 ['BlackElo', 2], ['Result', 1], ['TimeControl', 2], ['Date', 1],\n",
    "                ['EventDate', 0], ['EventType', 0], ['Round', 1], ['ECO', 2], ['EventCountry', 0], \n",
    "                 ['EventRounds', 0], ['PlyCount', 2], ['Source', 0], ['SourceDate', 0],\n",
    "                ['Mode', 0], ['FEN', 0], ['Time', 0], ['Termination', 0], ['Annotator', 2]]"
   ]
  },
  {
   "cell_type": "code",
   "execution_count": null,
   "metadata": {},
   "outputs": [],
   "source": [
    "for header_tag in header_fields:\n",
    "    chess_db.execute(\"\"\"INSERT INTO FEN_Headers \n",
    "    VALUES ('%s', '%s')\"\"\"  %(header_tag[0], header_tag[1]))"
   ]
  },
  {
   "cell_type": "code",
   "execution_count": null,
   "metadata": {},
   "outputs": [],
   "source": [
    "db_connection.commit()"
   ]
  },
  {
   "cell_type": "markdown",
   "metadata": {},
   "source": [
    "## Game Stubs table\n",
    "### This is the table of pgn headers for each game. \n",
    "At the moment, the program uses these to create the displayed header for each game. It would be nice for all the StubHeaderField values to match the list of FEN_Headers in the table above, but pgn praxis allows them to be arbitrary, and every provider seems to create their own."
   ]
  },
  {
   "cell_type": "code",
   "execution_count": null,
   "metadata": {},
   "outputs": [],
   "source": [
    "chess_db.execute('''CREATE TABLE Gamestubs\n",
    "             (StubGameKey INTEGER, StubHeaderField CHARACTER, StubHeaderValue CHARACTER)''')"
   ]
  },
  {
   "cell_type": "code",
   "execution_count": null,
   "metadata": {},
   "outputs": [],
   "source": [
    "db_connection.commit()"
   ]
  },
  {
   "cell_type": "markdown",
   "metadata": {},
   "source": [
    "## Games table"
   ]
  },
  {
   "cell_type": "code",
   "execution_count": null,
   "metadata": {},
   "outputs": [],
   "source": [
    "chess_db.execute('''CREATE TABLE Games\n",
    "             (GameKey INTEGER PRIMARY KEY, GameWhitePlayer INTEGER, GameBlackPlayer INTEGER, \n",
    "             GameSource INTEGER, GameResult INTEGER, GameSourceType INTEGER, GameRound INTEGER)''')"
   ]
  },
  {
   "cell_type": "code",
   "execution_count": null,
   "metadata": {},
   "outputs": [],
   "source": [
    "# Artificial Player keys for flagging me and repertoires\n",
    "me_key = 1\n",
    "white_rep = 5\n",
    "black_rep = 6\n",
    "\n",
    "Slav_parent_node = 1\n",
    "KID_parent_node = 7\n",
    "english_parent_node = 27\n",
    "\n",
    "DUMMY_PLAYER = 0 \n",
    "DUMMY_GAME_SOURCE = 0\n",
    "GAME_UNDECIDED = -2\n",
    "GAME_SOURCE_TYPE_REPERTOIRE = 2\n",
    "NO_GAME_ROUND = 0"
   ]
  },
  {
   "cell_type": "code",
   "execution_count": null,
   "metadata": {},
   "outputs": [],
   "source": [
    "# Creating a game tuple for a repertoire \"game\" to cover the English opening\n",
    "game_tuple = (DUMMY_PLAYER, DUMMY_PLAYER, DUMMY_GAME_SOURCE, GAME_UNDECIDED, GAME_SOURCE_TYPE_REPERTOIRE, NO_GAME_ROUND)\n",
    "chess_db.execute(\"\"\"INSERT INTO Games (GameWhitePlayer, GameBlackPlayer, GameSource, GameResult, GameSourceType, GameRound)\n",
    "    VALUES ('%s', '%s', '%s', '%s', '%s', '%s')\"\"\"  %(game_tuple))"
   ]
  },
  {
   "cell_type": "code",
   "execution_count": null,
   "metadata": {},
   "outputs": [],
   "source": [
    "db_connection.commit()"
   ]
  },
  {
   "cell_type": "markdown",
   "metadata": {},
   "source": [
    "## Positions table\n",
    "### Create table and multi-column index"
   ]
  },
  {
   "cell_type": "code",
   "execution_count": null,
   "metadata": {},
   "outputs": [],
   "source": [
    "chess_db.execute('''CREATE TABLE Positions\n",
    "             (PositionKey INTEGER PRIMARY KEY, PositionRank8 CHARACTER, PositionRank7 CHARACTER, \n",
    "             PositionRank6 CHARACTER, PositionRank5 CHARACTER, PositionRank4 CHARACTER, PositionRank3 CHARACTER, \n",
    "             PositionRank2 CHARACTER, PositionRank1 CHARACTER, PositionWhoseMove CHARACTER, \n",
    "             PositionCastlingPrivileges CHARACTER)''')"
   ]
  },
  {
   "cell_type": "code",
   "execution_count": null,
   "metadata": {},
   "outputs": [],
   "source": [
    "chess_db.execute('''CREATE INDEX position_idx \n",
    "    ON Positions (PositionRank8, PositionRank7, PositionRank6, PositionRank5, PositionRank4, PositionRank3, \n",
    "             PositionRank2, PositionRank1, PositionWhoseMove, PositionCastlingPrivileges);''')"
   ]
  },
  {
   "cell_type": "markdown",
   "metadata": {},
   "source": [
    "### Create first row for the table, the initial position of the game"
   ]
  },
  {
   "cell_type": "code",
   "execution_count": null,
   "metadata": {},
   "outputs": [],
   "source": [
    "initial_position = 'rnbqkbnr/pppppppp/8/8/8/8/PPPPPPPP/RNBQKBNR w KQkq - 0 1'"
   ]
  },
  {
   "cell_type": "code",
   "execution_count": null,
   "metadata": {},
   "outputs": [],
   "source": [
    "def split_fen(hotFEN: str) -> tuple:\n",
    "    fen_list = hotFEN.split()\n",
    "    fen_whose_move = fen_list[1]\n",
    "    fen_castling_privileges = fen_list[2]\n",
    "    fen_rows = fen_list[0]\n",
    "    return (fen_rows, fen_whose_move, fen_castling_privileges)"
   ]
  },
  {
   "cell_type": "code",
   "execution_count": null,
   "metadata": {},
   "outputs": [],
   "source": [
    "def get_tuple_for_position_table(positionFEN: str):\n",
    "    fen_rows_string, fen_whose_move, fen_castling_privileges = split_fen(positionFEN)\n",
    "    fen_rows_list = fen_rows_string.split(\"/\")\n",
    "    fen_rows_list.append(fen_whose_move) \n",
    "    fen_rows_list.append(fen_castling_privileges) \n",
    "    return tuple(fen_rows_list)"
   ]
  },
  {
   "cell_type": "code",
   "execution_count": null,
   "metadata": {},
   "outputs": [],
   "source": [
    "initial_position_fields = get_tuple_for_position_table(initial_position)  \n",
    "initial_position_fields"
   ]
  },
  {
   "cell_type": "code",
   "execution_count": null,
   "metadata": {},
   "outputs": [],
   "source": [
    "chess_db.execute(\"\"\"INSERT INTO Positions (PositionRank8, PositionRank7, PositionRank6, PositionRank5, PositionRank4, \n",
    "        PositionRank3, PositionRank2, PositionRank1 , PositionWhoseMove, PositionCastlingPrivileges)\n",
    "    VALUES ('%s', '%s', '%s', '%s', '%s', '%s', '%s', '%s', '%s', '%s')\"\"\"  %(initial_position_fields))"
   ]
  },
  {
   "cell_type": "code",
   "execution_count": null,
   "metadata": {},
   "outputs": [],
   "source": [
    "db_connection.commit()"
   ]
  },
  {
   "cell_type": "markdown",
   "metadata": {},
   "source": [
    "## Moves table"
   ]
  },
  {
   "cell_type": "code",
   "execution_count": null,
   "metadata": {},
   "outputs": [],
   "source": [
    "chess_db.execute('''CREATE TABLE Moves\n",
    "             (MoveKey INTEGER PRIMARY KEY, MoveGame INTEGER, MoveNumber INTEGER, MoveWhoseMove INTEGER, \n",
    "             SquareFrom CHARACTER, SquareTo CHARACTER, MovePromotionPiece CHARACTER, \n",
    "             LineLevel CHARACTER, PositionFrom INTEGER, PositionTo INTEGER,\n",
    "             MoveParent INTEGER, LineParent INTEGER, SublineIndex INTEGER)''')"
   ]
  },
  {
   "cell_type": "markdown",
   "metadata": {},
   "source": [
    "### Split Moves table into Game Moves and Pure Moves\n",
    "Game Moves will be the moves with game information like move number and the Game ID. Each contains a relational reference to a Pure Move.\n",
    "Pure Moves contain the chess information: PositionFrom, PositionTo, notation, etc. Now this can be accessed all at once via a relational reference."
   ]
  },
  {
   "cell_type": "markdown",
   "metadata": {},
   "source": [
    "1) Create the new tables"
   ]
  },
  {
   "cell_type": "code",
   "execution_count": 3,
   "metadata": {},
   "outputs": [
    {
     "data": {
      "text/plain": [
       "<sqlite3.Cursor at 0x4d4f650>"
      ]
     },
     "execution_count": 3,
     "metadata": {},
     "output_type": "execute_result"
    }
   ],
   "source": [
    "chess_db.execute('''CREATE TABLE PureMoves\n",
    "             (PureMoveKey INTEGER PRIMARY KEY, WhoseMoveWasThis CHARACTER, \n",
    "             SquareFrom CHARACTER, SquareTo CHARACTER, MovePromotionPiece CHARACTER,\n",
    "             PositionFrom INTEGER, PositionTo INTEGER)''')"
   ]
  },
  {
   "cell_type": "code",
   "execution_count": 4,
   "metadata": {},
   "outputs": [
    {
     "data": {
      "text/plain": [
       "<sqlite3.Cursor at 0x4d4f650>"
      ]
     },
     "execution_count": 4,
     "metadata": {},
     "output_type": "execute_result"
    }
   ],
   "source": [
    "chess_db.execute('''CREATE TABLE GameMoves\n",
    "             (GameMoveKey INTEGER PRIMARY KEY, GameMovePureMove INTEGER, MoveGame INTEGER, \n",
    "             MoveNumber INTEGER,  LineParent CHARACTER, SublineIndex CHARACTER)''')"
   ]
  },
  {
   "cell_type": "code",
   "execution_count": 5,
   "metadata": {},
   "outputs": [],
   "source": [
    "db_connection.commit()"
   ]
  },
  {
   "cell_type": "markdown",
   "metadata": {},
   "source": [
    "2) Extract the contents of the Moves table into a data structure"
   ]
  },
  {
   "cell_type": "code",
   "execution_count": 8,
   "metadata": {},
   "outputs": [],
   "source": [
    "move_list = return_db_results(\"Moves\")"
   ]
  },
  {
   "cell_type": "code",
   "execution_count": 9,
   "metadata": {},
   "outputs": [
    {
     "data": {
      "text/plain": [
       "{'MoveKey': 21,\n",
       " 'MoveGame': 2,\n",
       " 'MoveNumber': 1,\n",
       " 'MoveWhoseMove': 'False',\n",
       " 'SquareFrom': 'g8',\n",
       " 'SquareTo': 'f6',\n",
       " 'MovePromotionPiece': '',\n",
       " 'LineLevel': '0',\n",
       " 'PositionFrom': 113,\n",
       " 'PositionTo': 377,\n",
       " 'MoveParent': 20,\n",
       " 'LineParent': 0,\n",
       " 'SublineIndex': 0}"
      ]
     },
     "execution_count": 9,
     "metadata": {},
     "output_type": "execute_result"
    }
   ],
   "source": [
    "# Take a look at the data\n",
    "move_list[20]"
   ]
  },
  {
   "cell_type": "code",
   "execution_count": 10,
   "metadata": {},
   "outputs": [
    {
     "data": {
      "text/plain": [
       "'113_377'"
      ]
     },
     "execution_count": 10,
     "metadata": {},
     "output_type": "execute_result"
    }
   ],
   "source": [
    "move_record = move_list[20]\n",
    "make_move_hash(move_record['PositionFrom'], move_record['PositionTo'])"
   ]
  },
  {
   "cell_type": "markdown",
   "metadata": {},
   "source": [
    "3) Do the actual migration"
   ]
  },
  {
   "cell_type": "code",
   "execution_count": 11,
   "metadata": {},
   "outputs": [],
   "source": [
    "''' Actual Migration 1\n",
    "    Populate GameMoves table directly from the old Moves table,\n",
    "    Build PureMoveDict '''\n",
    "\n",
    "PureMoveKey = 1\n",
    "PureMoveDict = {}\n",
    "\n",
    "for old_move in move_list:\n",
    "    move_position_hash = make_move_hash(old_move['PositionFrom'], old_move['PositionTo'])\n",
    "    if move_position_hash not in PureMoveDict:\n",
    "        PureMoveDict[move_position_hash] = {'PureMoveKey': PureMoveKey, \n",
    "            'WhoseMoveWasThis': old_move['MoveWhoseMove'], 'SquareFrom': old_move['SquareFrom'], \n",
    "            'SquareTo': old_move['SquareTo'], 'MovePromotionPiece': old_move['MovePromotionPiece'], \n",
    "            'PositionFrom': old_move['PositionFrom'], 'PositionTo': old_move['PositionTo']}\n",
    "        relational_pure_move_key = PureMoveKey\n",
    "        PureMoveKey += 1\n",
    "    else:\n",
    "        relational_pure_move_key = PureMoveDict[move_position_hash]['PureMoveKey']\n",
    "    move_tuple = (old_move['MoveKey'], relational_pure_move_key, old_move['MoveGame'], \n",
    "                  old_move['MoveNumber'],  old_move['LineParent'], old_move['SublineIndex'])\n",
    "    GameMoveSQL = \"\"\"INSERT INTO GameMoves (GameMoveKey, GameMovePureMove, MoveGame, \n",
    "        MoveNumber, LineParent, SublineIndex)\n",
    "        VALUES ('%s', '%s', '%s', '%s', '%s', '%s')\"\"\"  %(move_tuple)\n",
    "    chess_db.execute(GameMoveSQL)"
   ]
  },
  {
   "cell_type": "code",
   "execution_count": 3,
   "metadata": {},
   "outputs": [],
   "source": [
    "db_connection.commit()"
   ]
  },
  {
   "cell_type": "code",
   "execution_count": 13,
   "metadata": {},
   "outputs": [
    {
     "data": {
      "text/plain": [
       "{'PureMoveKey': 61,\n",
       " 'WhoseMoveWasThis': 'False',\n",
       " 'SquareFrom': 'c8',\n",
       " 'SquareTo': 'f5',\n",
       " 'MovePromotionPiece': '',\n",
       " 'PositionFrom': 121,\n",
       " 'PositionTo': 414}"
      ]
     },
     "execution_count": 13,
     "metadata": {},
     "output_type": "execute_result"
    }
   ],
   "source": [
    "# Check data again\n",
    "PureMoveDict['121_414']"
   ]
  },
  {
   "cell_type": "code",
   "execution_count": 14,
   "metadata": {},
   "outputs": [],
   "source": [
    "''' Actual Migration 2\n",
    "    Populate PureMoves table from PureMoveDict '''\n",
    "\n",
    "for key, value in PureMoveDict.items():\n",
    "    ''' Besides readability, converting color to w/b letters is better because \n",
    "    sqlite stores True/False values as a string.\n",
    "    '''\n",
    "    whose_move_was_this = \"w\" if (value['WhoseMoveWasThis'] == 'True') else \"b\"\n",
    "    pure_move_tuple = (value['PureMoveKey'], whose_move_was_this, value['SquareFrom'], \n",
    "         value['SquareTo'], value['MovePromotionPiece'], value['PositionFrom'], value['PositionTo'])\n",
    "    PureMoveSQL = \"\"\"INSERT INTO PureMoves  (PureMoveKey, WhoseMoveWasThis, SquareFrom, SquareTo, \n",
    "        MovePromotionPiece, PositionFrom, PositionTo)\n",
    "        VALUES ('%s', '%s', '%s', '%s', '%s', '%s', '%s')\"\"\"  %(pure_move_tuple)\n",
    "    chess_db.execute(PureMoveSQL)"
   ]
  },
  {
   "cell_type": "code",
   "execution_count": 2,
   "metadata": {},
   "outputs": [
    {
     "data": {
      "text/plain": [
       "<sqlite3.Cursor at 0x4d566c0>"
      ]
     },
     "execution_count": 2,
     "metadata": {},
     "output_type": "execute_result"
    }
   ],
   "source": [
    "chess_db.execute(\"DROP TABLE Moves\")"
   ]
  },
  {
   "cell_type": "markdown",
   "metadata": {},
   "source": [
    "## Opening Nodes table"
   ]
  },
  {
   "cell_type": "code",
   "execution_count": null,
   "metadata": {},
   "outputs": [],
   "source": [
    "chess_db.execute('''CREATE TABLE OpeningNodes\n",
    "             (NodeKey INTEGER PRIMARY KEY, NodeName CHARACTER, NodeAbbrev CHARACTER,  \n",
    "             NodePositionKey INTEGER, NodeParentNode INTEGER, NodeStemGame INTEGER, \n",
    "             NodeIsRoot INTEGER)''')"
   ]
  },
  {
   "cell_type": "code",
   "execution_count": null,
   "metadata": {},
   "outputs": [],
   "source": [
    "db_connection.commit()"
   ]
  }
 ],
 "metadata": {
  "kernelspec": {
   "display_name": "Python 3",
   "language": "python",
   "name": "python3"
  },
  "language_info": {
   "codemirror_mode": {
    "name": "ipython",
    "version": 3
   },
   "file_extension": ".py",
   "mimetype": "text/x-python",
   "name": "python",
   "nbconvert_exporter": "python",
   "pygments_lexer": "ipython3",
   "version": "3.8.5"
  }
 },
 "nbformat": 4,
 "nbformat_minor": 4
}
