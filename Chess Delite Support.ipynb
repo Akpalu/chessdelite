{
 "cells": [
  {
   "cell_type": "markdown",
   "metadata": {},
   "source": [
    "# Steps: \n",
    "\n",
    "1) Initialize notebook <br>\n",
    "2) Import games from PGN <br>\n",
    "3) Import opening trees <br>"
   ]
  },
  {
   "cell_type": "markdown",
   "metadata": {},
   "source": [
    "## 1a) Get friendly with the database and the PyChess library"
   ]
  },
  {
   "cell_type": "code",
   "execution_count": 1,
   "metadata": {},
   "outputs": [],
   "source": [
    "import sqlite3\n",
    "import chess\n",
    "import chess.pgn\n",
    "testboard = chess.Board()\n",
    "from chess.pgn import ChildNode"
   ]
  },
  {
   "cell_type": "code",
   "execution_count": 2,
   "metadata": {},
   "outputs": [],
   "source": [
    "DATABASE = \"chessdelite.db\"\n",
    "db_connection = sqlite3.connect(DATABASE) \n",
    "chess_db = db_connection.cursor()\n",
    "\n",
    "# Code for shutting down the database connection is at the end of the notebook."
   ]
  },
  {
   "cell_type": "markdown",
   "metadata": {},
   "source": [
    "## 1b) Chess delite constants and utility functions"
   ]
  },
  {
   "cell_type": "code",
   "execution_count": 3,
   "metadata": {},
   "outputs": [],
   "source": [
    "# Enum constants \n",
    "\n",
    "# Basic stuff\n",
    "initial_position = 'rnbqkbnr/pppppppp/8/8/8/8/PPPPPPPP/RNBQKBNR w KQkq - 0 1'\n",
    "WHITE_TO_MOVE = True\n",
    "BLACK_TO_MOVE = False\n",
    "\n",
    "# 'Game' types\n",
    "cRegularGame = 1\n",
    "cOpeningTree = 2\n",
    "cWhiteRepertoire = 3\n",
    "cBlackRepertoire = 4\n",
    "cTheoreticalEnding = 5\n",
    "\n",
    "# Dummy variables for Game record\n",
    "''' See documentation for details, but Tournament/Player authority lists (for relational\n",
    "records) are not a thing yet. The game info display right now is pulled from the \n",
    "PGN's headers.\n",
    "'''\n",
    "cNoRealPlayer = 0\n",
    "cNoRealSource = 0\n",
    "cRoundZero = 0\n",
    "\n",
    "# Game results\n",
    "cUnknownResult = -2\n",
    "cWhiteWin = 1\n",
    "cDraw = 0\n",
    "cBlackWin = -1\n",
    "\n",
    "# Node level in PyChess's hierarchy of variations\n",
    "cRoot = 0\n",
    "\n",
    "def split_fen(hotFEN: str) -> tuple:\n",
    "    fen_list = hotFEN.split()\n",
    "    fen_whose_move = fen_list[1]\n",
    "    fen_castling_privileges = fen_list[2]\n",
    "    fen_rows = fen_list[0]\n",
    "    return (fen_rows, fen_whose_move, fen_castling_privileges)\n",
    "\n",
    "def get_FEN_hash_from_FEN_string(hotFEN: str) -> str:\n",
    "    fen_list = hotFEN.split()\n",
    "    fen_whose_move = fen_list[1]\n",
    "    fen_castling_privileges = fen_list[2]\n",
    "    fen_rows = fen_list[0]\n",
    "    return fen_rows + fen_whose_move + fen_castling_privileges\n",
    "\n",
    "def get_tuple_for_position_insert(positionFEN: str, position_key: int = 0 ) -> tuple:\n",
    "    fen_rows_string, fen_whose_move, fen_castling_privileges = split_fen(positionFEN)\n",
    "    fen_rows_list = fen_rows_string.split(\"/\")\n",
    "    fen_rows_list.append(fen_whose_move) \n",
    "    fen_rows_list.append(fen_castling_privileges) \n",
    "    if position_key:\n",
    "        fen_rows_list.insert(0, position_key)\n",
    "    return tuple(fen_rows_list)\n",
    "\n",
    "def get_whose_move_from_FEN_string(hot_FEN: str) -> bool:\n",
    "    return split_fen(hot_FEN)[1] == 'w'\n",
    "\n",
    "def get_position_dict() -> dict:\n",
    "    position_dict = {}\n",
    "    chess_db.execute(\"SELECT * from Positions\")\n",
    "    for position_row in chess_db.fetchall():\n",
    "        hash_from_table = '/'.join(position_row[1:9]) + position_row[9] + position_row[10]\n",
    "        key = position_row[0]\n",
    "        position_dict[hash_from_table] = key\n",
    "    return position_dict\n",
    "\n",
    "def get_next_move_ID(tablename: str) -> int:\n",
    "    tablefields = {\"Moves\": \"MoveGame\", \"Games\": \"GameResult\", \"Positions\": \"PositionWhoseMove\",\n",
    "                  \"OpeningNodes\": \"NodePosition\"}\n",
    "    sql_string = \"\"\"INSERT INTO %s (%s) VALUES ('1')\"\"\" %(tablename,tablefields[tablename])\n",
    "    chess_db.execute(sql_string)\n",
    "    move_id = chess_db.lastrowid\n",
    "    db_connection.rollback()\n",
    "    return move_id\n",
    "\n",
    "def build_game_dict(game_node: ChildNode, parent_index: int = 0, position_from:str = initial_position, \n",
    "                    node_level: int = 0, line_parent: int = 0, subline_index: int = 0, game_dict:dict = None):\n",
    "    '''Builds a flat dictionary of chessgame nodes with tree information stored as a parent reference\n",
    "    field in the values of the dictionary rather than in the hierarchical structure of the dictionary\n",
    "    itself. Chessgame data is also stored in the values of the dictionary. Dictionary keys are arbitrary\n",
    "    reference numbers that are unique within each individual generated dictionary; these keys are\n",
    "    what is referenced in the parent field to encode tree structure.\n",
    "    '''\n",
    "    '''The parent_index and node_level transcribe the exact tree structure of the PyChess game that \n",
    "    the routine reads. The parent_index is an arbitrary/local index (a relational reference to the\n",
    "    dictionary keys) that serves to serialize the hierarchical structure of the PyChess game tree. The \n",
    "    node_level field documents the current node's index in the PyChess game node's list of Variations. \n",
    "    These features of the original PyChess game class are only being saved in case they turn out to \n",
    "    be useful for some future purpose.\n",
    "    \n",
    "    The line_parent and subline_index serve to serialize the game as a collection of lines, not of individual \n",
    "    moves. Their purpose is to allow a database call to retrieve lines as lines (by finding all the moves with\n",
    "    the same line_parent and subline_index) instead of having to recreate them by walking a tree one node at a time. \n",
    "    \n",
    "    The main line of a game has line_parent zero (and subline_index zero, but it doesn't really matter). If there \n",
    "    is a branch at the move with key 118, the moves in that line inherit line_parent 118 and subline_index 1. If \n",
    "    there are two branches in that spot, the second line gets subline_index 2. All the moves in the main line of\n",
    "    these lines get these same indexing numbers. The indexing process is the same whether the new lines start \n",
    "    from the main line or from any of the side lines: the new branch gets the line_parent number that indexes\n",
    "    the specific move that they branched off from, and the subline_index simply transcribes that line's index\n",
    "    in the PyChess node's list of variations. The main difference from the PyChess hierarchical structure is that \n",
    "    subsequent main line children of the non-primary node retain these indexing numbers instead of being reset to \n",
    "    zero. This allows SQL and the export routine to grab (and preserve) each entire line as a unit.\n",
    "    \n",
    "    '''\n",
    "    global move_index\n",
    "    if game_dict is None:\n",
    "        game_dict = {}\n",
    "    local_index = move_index\n",
    "    move_index += 1\n",
    "    if node_level > 0:\n",
    "        testboard.set_fen(position_from)\n",
    "    game_dict[local_index] = {'move_number': testboard.fullmove_number, 'position_from': position_from,\n",
    "                'white_move': get_whose_move_from_FEN_string(testboard.fen()), 'move_notation': game_node.uci(), \n",
    "                'parent': parent_index, 'node_level': node_level, 'line_parent': line_parent, 'subline_index': subline_index}\n",
    "    testboard.push(game_node.move)\n",
    "    position_to = testboard.fen()\n",
    "    game_dict[local_index]['position_to'] = position_to\n",
    "    if game_node.variations:\n",
    "        for local_node_level, node in enumerate(game_node.variations):\n",
    "            if local_node_level == cRoot:\n",
    "                new_line_parent = line_parent\n",
    "                new_subline_index = subline_index\n",
    "            else:\n",
    "                new_line_parent = local_index\n",
    "                new_subline_index = local_node_level\n",
    "            build_game_dict(node, local_index, position_to, local_node_level, new_line_parent, new_subline_index, game_dict)\n",
    "    return game_dict"
   ]
  },
  {
   "cell_type": "markdown",
   "metadata": {},
   "source": [
    "# 2) Import games from pgn files"
   ]
  },
  {
   "cell_type": "markdown",
   "metadata": {},
   "source": [
    "## 2a) Read a file containing chess game(s)\n",
    "\n",
    "If you make your own file by copy-pasting PGN notation into one document, make sure <br>\n",
    "that all the headers and the beginning of the actual notation are flush left, or the <br>\n",
    "game-reading routine will choke."
   ]
  },
  {
   "cell_type": "code",
   "execution_count": 4,
   "metadata": {},
   "outputs": [],
   "source": [
    "#file_name = 'pgns/KID opening tree.txt'\n",
    "#file_name = \"pgns/basic slav theory.txt\"\n",
    "#file_name = 'pgns/slav compendium.txt'\n",
    "#file_name = 'pgns/KID compendium.pgn'\n",
    "#file_name = 'pgns/portisch-petrosian slav.txt'\n",
    "file_name = 'pgns/Euwe slavs.txt' \n",
    "pgn_file = open(file_name)\n",
    "\n",
    "multiple_game_list = []\n",
    "\n",
    "while True:\n",
    "    game = chess.pgn.read_game(pgn_file)\n",
    "    if game is None:\n",
    "        break  # end of file\n",
    "    multiple_game_list.append(game)"
   ]
  },
  {
   "cell_type": "markdown",
   "metadata": {},
   "source": [
    "## 2b) Initialize process-wide variables and extract the data"
   ]
  },
  {
   "cell_type": "code",
   "execution_count": 5,
   "metadata": {},
   "outputs": [],
   "source": [
    "game_list = []\n",
    "header_list = []\n",
    "move_list = []\n",
    "new_position_list = []\n",
    "position_dict = get_position_dict()\n",
    "game_dict = {}\n",
    "testboard = chess.Board()\n",
    "\n",
    "game_type = cRegularGame\n",
    "\n",
    "game_index = get_next_move_ID(\"Games\")\n",
    "move_index = get_next_move_ID(\"Moves\")\n",
    "position_index = get_next_move_ID(\"Positions\")\n",
    "\n",
    "# Read games into dictionaries\n",
    "for chess_game in multiple_game_list:\n",
    "    # Reinitialize the game-specific variables\n",
    "    testboard.reset()\n",
    "    root_node = chess_game.game()\n",
    "    first_move = root_node.variations[0]\n",
    "    game_result = cUnknownResult\n",
    "    for header in chess_game.headers:\n",
    "        header_list.append((game_index, header, chess_game.headers[header]))\n",
    "        if header == \"Result\":\n",
    "            if chess_game.headers[header] == \"1-0\":\n",
    "                game_result = cWhiteWin\n",
    "            elif chess_game.headers[header] == \"0-1\":\n",
    "                game_result = cBlackWin\n",
    "            elif \"1/2\" in chess_game.headers[header]:\n",
    "                game_result = cDraw\n",
    "    \n",
    "    # As noted above, I'm mostly just stubbing out the game records right now with zeroes.\n",
    "    game_list.append((game_index, cNoRealPlayer, cNoRealPlayer, cNoRealSource, game_result, game_type, cRoundZero))\n",
    "        \n",
    "    ''' Build game dict, and then read its information into a list of tuples\n",
    "    that will be used to update Positions and Moves tables. '''\n",
    "    game_dict = build_game_dict(first_move)\n",
    "    # Hash or find all positions in the game\n",
    "    for game_dict_index, move_info in game_dict.items():\n",
    "        fen_to_string = move_info['position_to']\n",
    "        hot_hash = get_FEN_hash_from_FEN_string(fen_to_string)\n",
    "        if hot_hash not in position_dict:\n",
    "            position_tuple = get_tuple_for_position_insert(fen_to_string, position_index)\n",
    "            new_position_list.append(position_tuple)\n",
    "            position_dict[hot_hash] = position_index\n",
    "            position_index +=1\n",
    "        move_info['position_to_key'] = position_dict[hot_hash]\n",
    "        move_info['position_from_key'] = position_dict[get_FEN_hash_from_FEN_string(move_info['position_from'])]\n",
    "    \n",
    "    # Write game moves to their own tuple, linked with to and from positions\n",
    "        # First line of SQL: logistics stuff\n",
    "        move_number = move_info['move_number']\n",
    "        whose_move = move_info['white_move']\n",
    "        # Second line of SQL: Move info\n",
    "        full_move_notation = move_info['move_notation']\n",
    "        square_from = full_move_notation[:2] \n",
    "        square_to = full_move_notation[2:4]\n",
    "        promotion_piece = '' if len(full_move_notation) < 5 else full_move_notation[4]\n",
    "        # Third line of SQL: position and hierarchy info\n",
    "        position_from = move_info['position_from_key']\n",
    "        position_to = move_info['position_to_key']\n",
    "        # Original hierarchical info from PyChess game class\n",
    "        line_level = move_info['node_level']\n",
    "        move_parent = move_info['parent']\n",
    "        # New hierarchical info for grokking lines all at once\n",
    "        line_parent = move_info['line_parent']\n",
    "        subline_index = move_info['subline_index']\n",
    "        # make the tuple\n",
    "        move_tuple = (game_dict_index, game_index, move_number, whose_move, \n",
    "                      square_from, square_to, promotion_piece, \n",
    "                      line_level, position_from, position_to, move_parent, line_parent, subline_index\n",
    "                      )\n",
    "        move_list.append(move_tuple)\n",
    "        # Don't need to do this (next line) upon tuplization. The move_index is updated when the game_dict is built.\n",
    "        # move_index += 1\n",
    "    game_index += 1\n"
   ]
  },
  {
   "cell_type": "markdown",
   "metadata": {},
   "source": [
    "## 2c) Take a look at variables, if you want, to see if they make sense."
   ]
  },
  {
   "cell_type": "code",
   "execution_count": 6,
   "metadata": {},
   "outputs": [
    {
     "data": {
      "text/plain": [
       "[(43, 'Event', 'World Championship 16th'),\n",
       " (43, 'Site', 'Netherlands'),\n",
       " (43, 'Date', '1935.11.16'),\n",
       " (43, 'Round', '20'),\n",
       " (43, 'White', 'Euwe, Max'),\n",
       " (43, 'Black', 'Alekhine, Alexander'),\n",
       " (43, 'Result', '1-0'),\n",
       " (43, 'ECO', 'D17'),\n",
       " (43, 'EventCountry', 'NED'),\n",
       " (43, 'EventDate', '1935.10.03'),\n",
       " (43, 'EventRounds', '30'),\n",
       " (43, 'EventType', 'match'),\n",
       " (43, 'PlyCount', '81'),\n",
       " (43, 'Source', 'ChessBase'),\n",
       " (43, 'SourceDate', '1998.09.30'),\n",
       " (44, 'Event', 'World Championship 16th'),\n",
       " (44, 'Site', 'Netherlands'),\n",
       " (44, 'Date', '1935.11.19'),\n",
       " (44, 'Round', '21'),\n",
       " (44, 'White', 'Alekhine, Alexander'),\n",
       " (44, 'Black', 'Euwe, Max'),\n",
       " (44, 'Result', '0-1'),\n",
       " (44, 'ECO', 'D17'),\n",
       " (44, 'EventCountry', 'NED'),\n",
       " (44, 'EventDate', '1935.10.03'),\n",
       " (44, 'EventRounds', '30'),\n",
       " (44, 'EventType', 'match'),\n",
       " (44, 'PlyCount', '80'),\n",
       " (44, 'Source', 'ChessBase'),\n",
       " (44, 'SourceDate', '1998.09.30')]"
      ]
     },
     "execution_count": 6,
     "metadata": {},
     "output_type": "execute_result"
    }
   ],
   "source": [
    "#len(multiple_game_list)\n",
    "header_list\n",
    "#new_position_list  \n",
    "#move_list\n",
    "#game_dict\n",
    "#game_list  "
   ]
  },
  {
   "cell_type": "markdown",
   "metadata": {},
   "source": [
    "## 2d) Write the data to the database"
   ]
  },
  {
   "cell_type": "code",
   "execution_count": 7,
   "metadata": {},
   "outputs": [],
   "source": [
    "for game_record in game_list:\n",
    "    chess_db.execute(\"\"\"INSERT INTO Games (GameKey, GameWhitePlayer, GameBlackPlayer, \n",
    "                 GameSource, GameResult, GameSourceType, GameRound)\n",
    "                 VALUES ('%s', '%s', '%s', '%s', '%s', '%s', '%s')\"\"\"  %(game_record))\n",
    "    \n",
    "for position_tuple in new_position_list:\n",
    "    chess_db.execute(\"\"\"INSERT INTO Positions (PositionKey, PositionRank8, PositionRank7, PositionRank6, PositionRank5, \n",
    "            PositionRank4, PositionRank3, PositionRank2, PositionRank1 , PositionWhoseMove, PositionCastlingPrivileges)\n",
    "            VALUES ('%s', '%s', '%s', '%s', '%s', '%s', '%s', '%s', '%s', '%s', '%s')\"\"\"  %(position_tuple))\n",
    "    \n",
    "for move_tuple in move_list:\n",
    "    chess_db.execute(\"\"\"INSERT INTO Moves (MoveKey, MoveGame, MoveNumber, MoveWhoseMove, SquareFrom, SquareTo,\n",
    "             MovePromotionPiece, LineLevel, PositionFrom, PositionTo, MoveParent, LineParent, SublineIndex)\n",
    "    VALUES ('%s', '%s', '%s', '%s', '%s', '%s', '%s', '%s', '%s', '%s', '%s', '%s', '%s')\"\"\"  %(move_tuple))\n",
    "        \n",
    "for header_tag in header_list:\n",
    "    chess_db.execute(\"\"\"INSERT INTO Gamestubs (StubGameKey, StubHeaderField, StubHeaderValue)\n",
    "    VALUES ('%s', '%s', '%s')\"\"\"  %(header_tag))"
   ]
  },
  {
   "cell_type": "code",
   "execution_count": 8,
   "metadata": {},
   "outputs": [],
   "source": [
    "db_connection.commit()"
   ]
  },
  {
   "cell_type": "markdown",
   "metadata": {},
   "source": [
    "# 3) Create opening node/tree records"
   ]
  },
  {
   "cell_type": "markdown",
   "metadata": {},
   "source": [
    "## 3a) Some more consts and enums"
   ]
  },
  {
   "cell_type": "code",
   "execution_count": 9,
   "metadata": {},
   "outputs": [],
   "source": [
    "OPENING_POSITION_KEY = 1\n",
    "NODE_IS_ROOT = 1\n",
    "NODE_IS_NOT_ROOT = 0\n",
    "NO_STEM_GAME_YET = 0"
   ]
  },
  {
   "cell_type": "markdown",
   "metadata": {},
   "source": [
    "## 3b) Form the data and execute the import query."
   ]
  },
  {
   "cell_type": "code",
   "execution_count": null,
   "metadata": {},
   "outputs": [],
   "source": [
    "KIDParentNode = 7\n",
    "\n",
    "# These are Position Key, Node Name, and NodeAbbrev\n",
    "KID_node_info = [\n",
    "    [389, 'Exchange variation', 'KIDExVar'],\n",
    "[393, 'Petrosian variation', 'KIDPetros'],\n",
    "[396, 'Averbakh variation', 'KIDAverb'],\n",
    "[397, 'h3 variation', 'KIDh3'],\n",
    "[400, 'Bd3 variation', 'KIDBd3'],\n",
    "[403, 'Four Pawns Attack', 'KID4Pawns'],\n",
    "[407, 'Fianchetto wi Ne2', 'KIDEnglFianch'],\n",
    "[388, 'Classical Main line', 'KIDClass'],\n",
    "[413, 'Fianchetto 1950s-style', 'KID1950sFianch']\n",
    "]"
   ]
  },
  {
   "cell_type": "code",
   "execution_count": null,
   "metadata": {},
   "outputs": [],
   "source": [
    "for node_fields in KID_node_info:\n",
    "    opening_tuple = (node_fields[1], node_fields[2], node_fields[0], KIDParentNode, NO_STEM_GAME_YET, NODE_IS_NOT_ROOT)\n",
    "    chess_db.execute(\"\"\"INSERT INTO OpeningNodes (NodeName, NodeAbbrev, NodePositionKey, \n",
    "             NodeParentNode, NodeStemGame, NodeIsRoot)\n",
    "    VALUES ('%s', '%s', '%s', '%s', '%s', '%s')\"\"\"  %(opening_tuple))"
   ]
  },
  {
   "cell_type": "code",
   "execution_count": null,
   "metadata": {},
   "outputs": [],
   "source": [
    "db_connection.commit()"
   ]
  },
  {
   "cell_type": "markdown",
   "metadata": {},
   "source": [
    "## 3c) You can also change data in the tables"
   ]
  },
  {
   "cell_type": "code",
   "execution_count": 10,
   "metadata": {},
   "outputs": [
    {
     "data": {
      "text/plain": [
       "<sqlite3.Cursor at 0x58dcce0>"
      ]
     },
     "execution_count": 10,
     "metadata": {},
     "output_type": "execute_result"
    }
   ],
   "source": [
    "chess_db.execute(\"\"\"UPDATE OpeningNodes SET NodeAbbrev = 'slavEuweMoroz' WHERE NodeKey = 25\"\"\")"
   ]
  },
  {
   "cell_type": "code",
   "execution_count": 11,
   "metadata": {},
   "outputs": [
    {
     "data": {
      "text/plain": [
       "<sqlite3.Cursor at 0x58dcce0>"
      ]
     },
     "execution_count": 11,
     "metadata": {},
     "output_type": "execute_result"
    }
   ],
   "source": [
    "chess_db.execute(\"\"\"UPDATE OpeningNodes SET NodeName = 'Euwe/Morozevich' WHERE NodeKey = 25\"\"\")"
   ]
  },
  {
   "cell_type": "code",
   "execution_count": 12,
   "metadata": {},
   "outputs": [
    {
     "data": {
      "text/plain": [
       "<sqlite3.Cursor at 0x58dcce0>"
      ]
     },
     "execution_count": 12,
     "metadata": {},
     "output_type": "execute_result"
    }
   ],
   "source": [
    "chess_db.execute(\"\"\"UPDATE Gamestubs SET StubHeaderValue = '16th World Championship' where stubgamekey > 42 \n",
    "AND StubHeaderField = 'Event'\"\"\")"
   ]
  },
  {
   "cell_type": "code",
   "execution_count": 13,
   "metadata": {},
   "outputs": [],
   "source": [
    "db_connection.commit()"
   ]
  },
  {
   "cell_type": "code",
   "execution_count": null,
   "metadata": {},
   "outputs": [],
   "source": []
  },
  {
   "cell_type": "code",
   "execution_count": 14,
   "metadata": {},
   "outputs": [],
   "source": [
    "chess_db.close()\n",
    "db_connection.close()"
   ]
  },
  {
   "cell_type": "code",
   "execution_count": null,
   "metadata": {},
   "outputs": [],
   "source": []
  }
 ],
 "metadata": {
  "kernelspec": {
   "display_name": "Python 3",
   "language": "python",
   "name": "python3"
  },
  "language_info": {
   "codemirror_mode": {
    "name": "ipython",
    "version": 3
   },
   "file_extension": ".py",
   "mimetype": "text/x-python",
   "name": "python",
   "nbconvert_exporter": "python",
   "pygments_lexer": "ipython3",
   "version": "3.8.5"
  }
 },
 "nbformat": 4,
 "nbformat_minor": 4
}
